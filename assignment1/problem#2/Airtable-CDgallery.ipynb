{
 "cells": [
  {
   "cell_type": "markdown",
   "metadata": {},
   "source": [
    "# Airtable"
   ]
  },
  {
   "cell_type": "code",
   "execution_count": 1,
   "metadata": {},
   "outputs": [
    {
     "name": "stdout",
     "output_type": "stream",
     "text": [
      "Status Code: 200\n",
      "['2021年10月1日起长期陈列\\n9:00 - 18:00 提前1小时停止售票\\n', '\\n2022年11月15日 - 2023年2月5日\\n9:00 - 17:00 周五周六延长至20:30\\n提前30分钟停止入馆 周一闭馆（法定假日除外）\\n', '2022年11月26日 - 2023年2月26日\\n9:00 - 20:30 提前1小时停止入馆\\n周一闭馆（法定假日除外）\\n', '2022.11.13 - 2023.1.8', '2022.11.8 - 2022.12.7', '常设展 9:00 - 17:00 周五周六延长至20:30\\n提前30分钟停止入馆 周一闭馆（法定假日除外） \\n除夕、正月初一闭馆\\n', '2022年10月15日 ~ 2023年01月15日 每天 14:00 - 18:00', '\\n2022年11月20日 - 2023年3月\\n10:00 - 18:00 提前1小时停止入馆 \\n周一闭馆（法定节假日除外）\\n', '常设展 9:00 - 17:00 提前1小时停止入馆\\n周一闭馆（法定假日除外）\\n', '常设展 9:00 - 17:00 提前1小时停止入馆\\n周一闭馆（法定假日除外\\n', '2022.11.1 - 2023.1.15', '常设展 9:00-17:00 提前1小时停止入馆\\n周一闭馆（法定假日除外）\\n', '\\n2022年11月20日 - 待定\\n10:00 - 18:00 提前1小时停止入馆\\n周一闭馆（法定节假日除外）\\n', '常设展 9:00 - 17:00 提前1小时停止入馆\\n周一闭馆（法定假日除外）\\n', '11月26日 周六 00:00 ~ 2023年02月26日 周日 23:59', '常设展 9:00 - 17:00 周五周六延长至20:30\\n提前30分钟停止入馆 周一闭馆（法定假日除外） \\n除夕、正月初一闭馆\\n', '\\n常设展 9:00 - 17:00 周五周六延长至20:30\\n提前30分钟停止入馆 周一闭馆（法定假日除外） \\n除夕、正月初一闭馆\\n', '\\n2022年12月1日 - 2023年3月19日\\n9:00 - 18:00 提前1小时停止入馆 \\n周一闭馆（法定节假日除外）\\n', '11月15日 周二 00:00 ~ 2023年02月12日 周日 23:59', '\\n2022年8月26日 - 2023年6月20日\\n10:00 - 21:30 提前30分钟停止入场 \\n周一闭馆（节假日除外）\\n', '2022.8.20 - 2022.12.07', '2022.10.28 - 2023.1.15', '2022.10.13 - 2023.1.2', '2021年5月18日起长期陈列 9:00 - 17:00\\n提前1小时停止入馆 周一闭馆（节假日除外）\\n', '2022.11.19 - 2022.12.23', '\\n2022年11月29日 - 2023年3月5日\\n9:00 - 17:00 提前1小时停止入馆 \\n周一闭馆（法定假日除外）\\n', '\\n常设展 9:00 - 18:00 提前1小时停止入馆\\n周一闭馆（法定假日及1、2、7、8月除外）\\n', '2022.12.11-2023.03.26']\n",
      "                                                    0\n",
      "0           2021年10月1日起长期陈列\\n9:00 - 18:00 提前1小时停止售票\\n\n",
      "1   \\n2022年11月15日 - 2023年2月5日\\n9:00 - 17:00 周五周六延长...\n",
      "2   2022年11月26日 - 2023年2月26日\\n9:00 - 20:30 提前1小时停止...\n",
      "3                               2022.11.13 - 2023.1.8\n",
      "4                               2022.11.8 - 2022.12.7\n",
      "5   常设展 9:00 - 17:00 周五周六延长至20:30\\n提前30分钟停止入馆 周一闭馆...\n",
      "6          2022年10月15日 ~ 2023年01月15日 每天 14:00 - 18:00\n",
      "7   \\n2022年11月20日 - 2023年3月\\n10:00 - 18:00 提前1小时停止...\n",
      "8          常设展 9:00 - 17:00 提前1小时停止入馆\\n周一闭馆（法定假日除外）\\n\n",
      "9           常设展 9:00 - 17:00 提前1小时停止入馆\\n周一闭馆（法定假日除外\\n\n",
      "10                              2022.11.1 - 2023.1.15\n",
      "11           常设展 9:00-17:00 提前1小时停止入馆\\n周一闭馆（法定假日除外）\\n\n",
      "12  \\n2022年11月20日 - 待定\\n10:00 - 18:00 提前1小时停止入馆\\n周...\n",
      "13         常设展 9:00 - 17:00 提前1小时停止入馆\\n周一闭馆（法定假日除外）\\n\n",
      "14             11月26日 周六 00:00 ~ 2023年02月26日 周日 23:59\n",
      "15  常设展 9:00 - 17:00 周五周六延长至20:30\\n提前30分钟停止入馆 周一闭馆...\n",
      "16  \\n常设展 9:00 - 17:00 周五周六延长至20:30\\n提前30分钟停止入馆 周一...\n",
      "17  \\n2022年12月1日 - 2023年3月19日\\n9:00 - 18:00 提前1小时停...\n",
      "18             11月15日 周二 00:00 ~ 2023年02月12日 周日 23:59\n",
      "19  \\n2022年8月26日 - 2023年6月20日\\n10:00 - 21:30 提前30分...\n",
      "20                             2022.8.20 - 2022.12.07\n",
      "21                             2022.10.28 - 2023.1.15\n",
      "22                              2022.10.13 - 2023.1.2\n",
      "23  2021年5月18日起长期陈列 9:00 - 17:00\\n提前1小时停止入馆 周一闭馆（节...\n",
      "24                            2022.11.19 - 2022.12.23\n",
      "25  \\n2022年11月29日 - 2023年3月5日\\n9:00 - 17:00 提前1小时停...\n",
      "26  \\n常设展 9:00 - 18:00 提前1小时停止入馆\\n周一闭馆（法定假日及1、2、7、...\n",
      "27                              2022.12.11-2023.03.26\n"
     ]
    }
   ],
   "source": [
    "import requests\n",
    "import pandas as pd\n",
    "# headers = {\n",
    "# 'Authorization': 'Bearer keyIYWyPwWRIXR1Hw',\n",
    "# }\n",
    "\n",
    "# params = (\n",
    "# ('Grid view'),\n",
    "# )\n",
    "r = requests.get('https://api.airtable.com/v0/appbhdrJ89Sfr7eY2/exhibitions?api_key=keyIYWyPwWRIXR1Hw')\n",
    "print(\"Status Code:\",r.status_code)\n",
    "dict = r.json()\n",
    "dataset = []\n",
    "exid = []\n",
    "name = []\n",
    "result = []\n",
    "for data in dict['records']:\n",
    "    field_content = data['fields']\n",
    "    dataset.append(field_content)\n",
    "# print(dataset)\n",
    "# print('\\n')\n",
    "# print(pd.DataFrame(dataset))\n",
    "# print('\\n')\n",
    "for field in dataset:\n",
    "    exid.append(field.get('exid'))\n",
    "    name.append(field.get('name'))\n",
    "    result.append(field.get('date'))\n",
    "print(result)\n",
    "print(pd.DataFrame(result))"
   ]
  },
  {
   "cell_type": "markdown",
   "metadata": {},
   "source": [
    "# POST"
   ]
  },
  {
   "cell_type": "code",
   "execution_count": 2,
   "metadata": {},
   "outputs": [
    {
     "name": "stdout",
     "output_type": "stream",
     "text": [
      "Status Code: 200\n",
      "{\"id\":\"rec5XraSwPnr7QbB8\",\"createdTime\":\"2023-02-11T04:51:01.000Z\",\"fields\":{\"name\":\"麓湖·A4美术馆2.0\",\"time\":\"每天 10:00-18:00 提前半小时停止入馆\",\"place\":\"成都市双流县天府大道南延线麓湖艺展中心\",\"body\":\"麓湖·A4美术馆（原A4当代艺术中心）成立于2008年，2016年7月正式注册成为民办非盈利美术馆。\",\"images\":\"https://icity-static.icitycdn.com/images/uploads/ap/imsm/museum/pic_head/wacygxh/120840a8a85087fbwacygxh.jpg/1470284829/640x0\",\"maplink\":\"https://uri.amap.com/marker?position=104.034127,30.660792&name=四川博物院&src=mypage&coordinate=gaode&callnative=1\",\"exhibitions\":[\"recsVgptITfVyVQF8\"],\"Calculation\":\"rec5XraSwPnr7QbB8\"}}\n"
     ]
    }
   ],
   "source": [
    "import requests\n",
    "\n",
    "name = '麓湖·A4美术馆2.0'\n",
    "time = '每天 10:00-18:00 提前半小时停止入馆'\n",
    "place = '成都市双流县天府大道南延线麓湖艺展中心'\n",
    "body = '麓湖·A4美术馆（原A4当代艺术中心）成立于2008年，2016年7月正式注册成为民办非盈利美术馆。'\n",
    "images = 'https://icity-static.icitycdn.com/images/uploads/ap/imsm/museum/pic_head/wacygxh/120840a8a85087fbwacygxh.jpg/1470284829/640x0'\n",
    "maplink = 'https://uri.amap.com/marker?position=104.034127,30.660792&name=四川博物院&src=mypage&coordinate=gaode&callnative=1'\n",
    "\n",
    "\n",
    "mydict =  {\n",
    "    \"name\": name,\n",
    "    \"time\": time,\n",
    "    \"place\": place,\n",
    "    \"body\": body,\n",
    "    \"images\": images,\n",
    "    \"maplink\": maplink,\n",
    "    \"exhibitions\": [\n",
    "          \"recsVgptITfVyVQF8\"\n",
    "        ]\n",
    "    }\n",
    "\n",
    "data = {\"fields\": mydict}\n",
    "headers = {'Authorization': 'Bearer keyIYWyPwWRIXR1Hw', 'Content-Type': 'application/json; charset=utf-8'}\n",
    "r = requests.post('https://api.airtable.com/v0/appbhdrJ89Sfr7eY2/galleries',json=data,headers=headers)\n",
    "print(\"Status Code:\",r.status_code)\n",
    "print(r.text)\n"
   ]
  },
  {
   "cell_type": "markdown",
   "metadata": {},
   "source": [
    "# PUT"
   ]
  },
  {
   "cell_type": "code",
   "execution_count": 3,
   "metadata": {},
   "outputs": [
    {
     "name": "stdout",
     "output_type": "stream",
     "text": [
      "Status Code: 200\n",
      "{\"records\":[{\"id\":\"recPVa1VEMsVv8OoO\",\"createdTime\":\"2023-02-11T04:31:50.000Z\",\"fields\":{\"name\":\"麓湖·A4美术馆update\",\"time\":\"10:00-18:00\",\"place\":\"成都市双流县天府大道南延线麓湖艺展中心\",\"body\":\"麓湖·A4美术馆（原A4当代艺术中心）成立于2008年，2016年7月正式注册成为民办非盈利美术馆。\",\"images\":\"none\",\"maplink\":\"https://uri.amap.com/marker?position=104.034127,30.660792&name=四川博物院&src=mypage&coordinate=gaode&callnative=1\",\"exhibitions\":[\"recsVgptITfVyVQF8\"],\"Calculation\":\"recPVa1VEMsVv8OoO\"}}]}\n"
     ]
    }
   ],
   "source": [
    "import requests\n",
    "\n",
    "\n",
    "\n",
    "data = {\n",
    "  \"records\": [\n",
    "    {\n",
    "      \"id\": \"recPVa1VEMsVv8OoO\",\n",
    "      \"fields\": {\n",
    "        \"name\": '麓湖·A4美术馆update',\n",
    "        \"time\": '10:00-18:00',\n",
    "        \"place\":'成都市双流县天府大道南延线麓湖艺展中心',\n",
    "        \"body\" : '麓湖·A4美术馆（原A4当代艺术中心）成立于2008年，2016年7月正式注册成为民办非盈利美术馆。',\n",
    "        \"images\": 'none',\n",
    "        \"maplink\" :'https://uri.amap.com/marker?position=104.034127,30.660792&name=四川博物院&src=mypage&coordinate=gaode&callnative=1',\n",
    "        \"exhibitions\": [\n",
    "          \"recsVgptITfVyVQF8\"\n",
    "        ]\n",
    "      }\n",
    "    }\n",
    "  ] # end records\n",
    "} # end data\n",
    "headers = {'Authorization': 'Bearer keyIYWyPwWRIXR1Hw', 'Content-Type': 'application/json; charset=utf-8'}\n",
    "r = requests.put('https://api.airtable.com/v0/appbhdrJ89Sfr7eY2/galleries',json=data,headers=headers)\n",
    "print(\"Status Code:\",r.status_code)\n",
    "print(r.text)"
   ]
  },
  {
   "cell_type": "markdown",
   "metadata": {},
   "source": [
    "# DELETE"
   ]
  },
  {
   "cell_type": "code",
   "execution_count": 5,
   "metadata": {},
   "outputs": [
    {
     "name": "stdout",
     "output_type": "stream",
     "text": [
      "Status Code: 200\n",
      "{\"deleted\":true,\"id\":\"rec5XraSwPnr7QbB8\"}\n"
     ]
    }
   ],
   "source": [
    "import requests\n",
    "\n",
    "headers = {'Authorization': 'Bearer keyIYWyPwWRIXR1Hw', 'Content-Type': 'application/x-www-form-urlencoded'}\n",
    "r = requests.delete('https://api.airtable.com/v0/appbhdrJ89Sfr7eY2/galleries/rec5XraSwPnr7QbB8',headers=headers)\n",
    "print(\"Status Code:\",r.status_code)\n",
    "print(r.text)"
   ]
  },
  {
   "cell_type": "markdown",
   "metadata": {},
   "source": []
  }
 ],
 "metadata": {
  "kernelspec": {
   "display_name": "Python 3 (ipykernel)",
   "language": "python",
   "name": "python3"
  },
  "language_info": {
   "codemirror_mode": {
    "name": "ipython",
    "version": 3
   },
   "file_extension": ".py",
   "mimetype": "text/x-python",
   "name": "python",
   "nbconvert_exporter": "python",
   "pygments_lexer": "ipython3",
   "version": "3.9.12"
  }
 },
 "nbformat": 4,
 "nbformat_minor": 2
}
